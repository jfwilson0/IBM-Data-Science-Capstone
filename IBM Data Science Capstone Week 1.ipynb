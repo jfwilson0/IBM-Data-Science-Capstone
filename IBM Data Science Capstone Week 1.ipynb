{
 "cells": [
  {
   "cell_type": "markdown",
   "metadata": {},
   "source": [
    "## Description of the problem and a discussion of the background.\n"
   ]
  },
  {
   "cell_type": "markdown",
   "metadata": {},
   "source": [
    "In this project, we will imagine we are traveling to NYC for a week and want to do a Vegetarian food tour around the city. We will start by an address point of our hotel and we will find all the available vegetarian restaurants in a certain radious. \n",
    "The goal is to develop an algorithm to calculate distances between each of the found restaurants and then optimize te fastest rout to visit them all, by minimizing the traveling distance."
   ]
  },
  {
   "cell_type": "markdown",
   "metadata": {},
   "source": [
    "## Description of the data and how it will be used to solve the problem."
   ]
  },
  {
   "cell_type": "markdown",
   "metadata": {},
   "source": [
    "The first step will be identify all the restaurants in a 10 km radious area. Then, we will create a dataframe with following parameters: id, name, categorie ,latitude coordinate, longitude cordinate, distance to the hotel address. Once we have created that dataframe, we will proceed to filter the restaurants to select only the ones that are specialized in Vegan food and that have ratings above 7.0. Then, we will sort the dataframe in ascending order to find the closest restaurant from our initial location."
   ]
  },
  {
   "cell_type": "markdown",
   "metadata": {},
   "source": [
    "In the second step, we will create a function to calculate the [Haversine formula ](https://en.wikipedia.org/wiki/Haversine_formula) that will calculate distance between two coordinates. With this function, we will create a numpy array (Matrix) with all the distances between each of the restaurants. Having this Matrix, we will use a self developed version of the optimization algorithm to solve the [Traveling salesman problem](https://en.wikipedia.org/wiki/Travelling_salesman_problem) applied to this project."
   ]
  },
  {
   "cell_type": "markdown",
   "metadata": {},
   "source": [
    "As a result, we will find the shortest route to enjoy the best Vegan restaurants around our initial location in NYC."
   ]
  }
 ],
 "metadata": {
  "kernelspec": {
   "display_name": "Python 3",
   "language": "python",
   "name": "python3"
  },
  "language_info": {
   "codemirror_mode": {
    "name": "ipython",
    "version": 3
   },
   "file_extension": ".py",
   "mimetype": "text/x-python",
   "name": "python",
   "nbconvert_exporter": "python",
   "pygments_lexer": "ipython3",
   "version": "3.7.4"
  }
 },
 "nbformat": 4,
 "nbformat_minor": 2
}
